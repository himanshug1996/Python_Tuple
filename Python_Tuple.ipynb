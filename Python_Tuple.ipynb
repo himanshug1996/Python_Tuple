{
 "cells": [
  {
   "cell_type": "markdown",
   "id": "ffc96024",
   "metadata": {},
   "source": [
    "# Tuple\n",
    "\n",
    "**Tuple is sequence of value,value can be any type. They are immutable.**"
   ]
  },
  {
   "cell_type": "code",
   "execution_count": 1,
   "id": "9bde798b",
   "metadata": {},
   "outputs": [
    {
     "data": {
      "text/plain": [
       "[1, 5, 5, 8]"
      ]
     },
     "execution_count": 1,
     "metadata": {},
     "output_type": "execute_result"
    }
   ],
   "source": [
    "lst = ((1,5,5,8)) # converting to list\n",
    "a = list(lst)\n",
    "a"
   ]
  },
  {
   "cell_type": "code",
   "execution_count": 2,
   "id": "960bb38c",
   "metadata": {},
   "outputs": [
    {
     "data": {
      "text/plain": [
       "[1, 5, 5, 6]"
      ]
     },
     "execution_count": 2,
     "metadata": {},
     "output_type": "execute_result"
    }
   ],
   "source": [
    "a[3] = 6 # changing list element\n",
    "a"
   ]
  },
  {
   "cell_type": "code",
   "execution_count": 3,
   "id": "cfdb1bea",
   "metadata": {},
   "outputs": [
    {
     "data": {
      "text/plain": [
       "(1, 5, 5, 6)"
      ]
     },
     "execution_count": 3,
     "metadata": {},
     "output_type": "execute_result"
    }
   ],
   "source": [
    "b = tuple(a) # converting list to tuple\n",
    "b"
   ]
  },
  {
   "cell_type": "code",
   "execution_count": 4,
   "id": "a90729f1",
   "metadata": {},
   "outputs": [
    {
     "data": {
      "text/plain": [
       "(1, 5, 5, 8)"
      ]
     },
     "execution_count": 4,
     "metadata": {},
     "output_type": "execute_result"
    }
   ],
   "source": [
    "lst # it will not change it's original form"
   ]
  },
  {
   "cell_type": "markdown",
   "id": "48e25176",
   "metadata": {},
   "source": [
    "**it is not necessary to close in parenthesis.**"
   ]
  },
  {
   "cell_type": "code",
   "execution_count": 5,
   "id": "e081232d",
   "metadata": {},
   "outputs": [],
   "source": [
    "t = 'v','g','f','r','w'"
   ]
  },
  {
   "cell_type": "code",
   "execution_count": 6,
   "id": "98696859",
   "metadata": {},
   "outputs": [
    {
     "data": {
      "text/plain": [
       "tuple"
      ]
     },
     "execution_count": 6,
     "metadata": {},
     "output_type": "execute_result"
    }
   ],
   "source": [
    "type(t)"
   ]
  },
  {
   "cell_type": "code",
   "execution_count": 7,
   "id": "f69a8e78",
   "metadata": {},
   "outputs": [
    {
     "data": {
      "text/plain": [
       "str"
      ]
     },
     "execution_count": 7,
     "metadata": {},
     "output_type": "execute_result"
    }
   ],
   "source": [
    "t2 = ('a') # the value inside parenthesis is not a tuple.\n",
    "type(t2)"
   ]
  },
  {
   "cell_type": "code",
   "execution_count": 8,
   "id": "6d3d6597",
   "metadata": {},
   "outputs": [
    {
     "name": "stdout",
     "output_type": "stream",
     "text": [
      "<class 'tuple'>\n"
     ]
    }
   ],
   "source": [
    "t1 = tuple()\n",
    "t1\n",
    "print(type(t1))"
   ]
  },
  {
   "cell_type": "code",
   "execution_count": 9,
   "id": "924ea815",
   "metadata": {},
   "outputs": [
    {
     "data": {
      "text/plain": [
       "('l', 'u', 'p', 'i', 'n', 's')"
      ]
     },
     "execution_count": 9,
     "metadata": {},
     "output_type": "execute_result"
    }
   ],
   "source": [
    "tt = tuple('lupins') # if argument is sequence of string ,list or tuple ,the result is tuple with element.\n",
    "tt"
   ]
  },
  {
   "cell_type": "code",
   "execution_count": 10,
   "id": "b6f0952e",
   "metadata": {},
   "outputs": [
    {
     "data": {
      "text/plain": [
       "'n'"
      ]
     },
     "execution_count": 10,
     "metadata": {},
     "output_type": "execute_result"
    }
   ],
   "source": [
    "tt[4]"
   ]
  },
  {
   "cell_type": "code",
   "execution_count": 11,
   "id": "fae6a2b4",
   "metadata": {},
   "outputs": [
    {
     "data": {
      "text/plain": [
       "('u', 'p', 'i', 'n')"
      ]
     },
     "execution_count": 11,
     "metadata": {},
     "output_type": "execute_result"
    }
   ],
   "source": [
    "tt[1:5]"
   ]
  },
  {
   "cell_type": "markdown",
   "id": "08d722d9",
   "metadata": {},
   "source": [
    "# you can not modify tuple element."
   ]
  },
  {
   "cell_type": "markdown",
   "id": "bc06c8a7",
   "metadata": {},
   "source": [
    "**You  can not  modify the elements but you can replace one tuple with another.**"
   ]
  },
  {
   "cell_type": "code",
   "execution_count": 12,
   "id": "267260b0",
   "metadata": {},
   "outputs": [
    {
     "data": {
      "text/plain": [
       "('j', 'a', 'i', 'n', 'k', 'i', 'n', 'g', 's')"
      ]
     },
     "execution_count": 12,
     "metadata": {},
     "output_type": "execute_result"
    }
   ],
   "source": [
    "tup = tuple(\"jainkings\")\n",
    "tup"
   ]
  },
  {
   "cell_type": "code",
   "execution_count": 13,
   "id": "681235ca",
   "metadata": {},
   "outputs": [
    {
     "data": {
      "text/plain": [
       "('t', 'n', 'k', 'i')"
      ]
     },
     "execution_count": 13,
     "metadata": {},
     "output_type": "execute_result"
    }
   ],
   "source": [
    "\n",
    "tup = ('t',) + tup[3:6]\n",
    "tup"
   ]
  },
  {
   "cell_type": "code",
   "execution_count": 14,
   "id": "356a6d0d",
   "metadata": {},
   "outputs": [
    {
     "data": {
      "text/plain": [
       "True"
      ]
     },
     "execution_count": 14,
     "metadata": {},
     "output_type": "execute_result"
    }
   ],
   "source": [
    "(0,1,2)<(0,3,4)"
   ]
  },
  {
   "cell_type": "code",
   "execution_count": 15,
   "id": "2d34724d",
   "metadata": {},
   "outputs": [
    {
     "data": {
      "text/plain": [
       "True"
      ]
     },
     "execution_count": 15,
     "metadata": {},
     "output_type": "execute_result"
    }
   ],
   "source": [
    "(0,1,200)<(0,3,4)"
   ]
  },
  {
   "cell_type": "markdown",
   "id": "464a26f8",
   "metadata": {},
   "source": [
    "**Above, python goes with 0 with 0 then 1 with 3 here, python finds difference and it gave result.\n",
    "it won't go further to compare 200**"
   ]
  },
  {
   "cell_type": "code",
   "execution_count": 16,
   "id": "1038af1f",
   "metadata": {},
   "outputs": [
    {
     "data": {
      "text/plain": [
       "False"
      ]
     },
     "execution_count": 16,
     "metadata": {},
     "output_type": "execute_result"
    }
   ],
   "source": [
    "(100,1,200)<(0,3,4)"
   ]
  },
  {
   "cell_type": "markdown",
   "id": "bc58807f",
   "metadata": {},
   "source": [
    "**the testimony of above statement.**"
   ]
  },
  {
   "cell_type": "code",
   "execution_count": 17,
   "id": "58219c91",
   "metadata": {},
   "outputs": [],
   "source": [
    "a,b = b,a"
   ]
  },
  {
   "cell_type": "markdown",
   "id": "087f9cf0",
   "metadata": {},
   "source": [
    "left side is tuple of variables and right side is tuple of expressions, each value is assigned to it's respective varible**"
   ]
  },
  {
   "cell_type": "code",
   "execution_count": 18,
   "id": "219a4469",
   "metadata": {},
   "outputs": [
    {
     "data": {
      "text/plain": [
       "'himanshuengineer02'"
      ]
     },
     "execution_count": 18,
     "metadata": {},
     "output_type": "execute_result"
    }
   ],
   "source": [
    "address = 'himanshuengineer02@gmail'\n",
    "\n",
    "uname,domain = address.split(\"@\")\n",
    "uname"
   ]
  },
  {
   "cell_type": "code",
   "execution_count": 19,
   "id": "d9d61ed6",
   "metadata": {},
   "outputs": [
    {
     "data": {
      "text/plain": [
       "'gmail'"
      ]
     },
     "execution_count": 19,
     "metadata": {},
     "output_type": "execute_result"
    }
   ],
   "source": [
    "domain"
   ]
  },
  {
   "cell_type": "markdown",
   "id": "d6a62674",
   "metadata": {},
   "source": [
    "**split is list of two elements**"
   ]
  },
  {
   "cell_type": "markdown",
   "id": "9343560d",
   "metadata": {},
   "source": [
    "# Tuple as Return value."
   ]
  },
  {
   "cell_type": "markdown",
   "id": "dcb37799",
   "metadata": {},
   "source": [
    "**Built in function divmod takes two arguments & return a tuple of two values**\n",
    "\n",
    "**quotient**\n",
    "\n",
    "**remainder**"
   ]
  },
  {
   "cell_type": "code",
   "execution_count": 20,
   "id": "eac55815",
   "metadata": {},
   "outputs": [
    {
     "data": {
      "text/plain": [
       "(1, 3)"
      ]
     },
     "execution_count": 20,
     "metadata": {},
     "output_type": "execute_result"
    }
   ],
   "source": [
    "f = divmod(8,5)\n",
    "f"
   ]
  },
  {
   "cell_type": "markdown",
   "id": "63a6717b",
   "metadata": {},
   "source": [
    "**OR**"
   ]
  },
  {
   "cell_type": "code",
   "execution_count": 21,
   "id": "3f9143a4",
   "metadata": {},
   "outputs": [
    {
     "data": {
      "text/plain": [
       "1"
      ]
     },
     "execution_count": 21,
     "metadata": {},
     "output_type": "execute_result"
    }
   ],
   "source": [
    "quot, rem = divmod(8,5)\n",
    "quot"
   ]
  },
  {
   "cell_type": "code",
   "execution_count": 22,
   "id": "14ae6a4d",
   "metadata": {},
   "outputs": [
    {
     "data": {
      "text/plain": [
       "3"
      ]
     },
     "execution_count": 22,
     "metadata": {},
     "output_type": "execute_result"
    }
   ],
   "source": [
    "rem"
   ]
  },
  {
   "cell_type": "code",
   "execution_count": 23,
   "id": "0a8d168f",
   "metadata": {},
   "outputs": [],
   "source": [
    "def min_max(f):\n",
    "    return min(f),max(f)"
   ]
  },
  {
   "cell_type": "code",
   "execution_count": 24,
   "id": "6934bded",
   "metadata": {},
   "outputs": [
    {
     "data": {
      "text/plain": [
       "1"
      ]
     },
     "execution_count": 24,
     "metadata": {},
     "output_type": "execute_result"
    }
   ],
   "source": [
    "min(1,8,87)"
   ]
  },
  {
   "cell_type": "code",
   "execution_count": 25,
   "id": "9e0ba78d",
   "metadata": {},
   "outputs": [
    {
     "data": {
      "text/plain": [
       "98"
      ]
     },
     "execution_count": 25,
     "metadata": {},
     "output_type": "execute_result"
    }
   ],
   "source": [
    "max(58,85,98)"
   ]
  },
  {
   "cell_type": "markdown",
   "id": "d262d65c",
   "metadata": {},
   "source": [
    "**Variable lengh Argument tuples**\n",
    "\n",
    "**function can take variable number of arguments,parameter name that begins with * gathers arguments into tuple.**"
   ]
  },
  {
   "cell_type": "code",
   "execution_count": 26,
   "id": "05a3ea22",
   "metadata": {},
   "outputs": [],
   "source": [
    "def printall(*args):\n",
    "    print(args)"
   ]
  },
  {
   "cell_type": "code",
   "execution_count": 27,
   "id": "fe64464d",
   "metadata": {},
   "outputs": [
    {
     "name": "stdout",
     "output_type": "stream",
     "text": [
      "(1, 8, 9, 7, 8, 'l', ';', 'ir@n')\n"
     ]
    }
   ],
   "source": [
    "printall(1,8,9,7,8,'l',';','ir@n')"
   ]
  },
  {
   "cell_type": "code",
   "execution_count": 28,
   "id": "5a5f633d",
   "metadata": {},
   "outputs": [],
   "source": [
    "#t = (7,2)\n",
    "#divmod(t) # divmod expected two argument"
   ]
  },
  {
   "cell_type": "code",
   "execution_count": 29,
   "id": "9ed41a9d",
   "metadata": {},
   "outputs": [
    {
     "data": {
      "text/plain": [
       "(4, 1)"
      ]
     },
     "execution_count": 29,
     "metadata": {},
     "output_type": "execute_result"
    }
   ],
   "source": [
    "t = (9,2)\n",
    "divmod(*t)"
   ]
  },
  {
   "cell_type": "markdown",
   "id": "bc8335a6",
   "metadata": {},
   "source": [
    "# Lists & Tuples"
   ]
  },
  {
   "cell_type": "markdown",
   "id": "b72a96e6",
   "metadata": {},
   "source": [
    "**zip**\n",
    "\n",
    "**zip is built in function that takes two or more sequences and returns a list of tuples where each tuple contains one element from each sequence**"
   ]
  },
  {
   "cell_type": "code",
   "execution_count": 30,
   "id": "0c7de2ba",
   "metadata": {},
   "outputs": [
    {
     "data": {
      "text/plain": [
       "<zip at 0x1efba5a4580>"
      ]
     },
     "execution_count": 30,
     "metadata": {},
     "output_type": "execute_result"
    }
   ],
   "source": [
    "t = \"ijk\"\n",
    "s = [1,5,8]\n",
    "z = zip(t,s)\n",
    "z"
   ]
  },
  {
   "cell_type": "markdown",
   "id": "72ce9582",
   "metadata": {},
   "source": [
    "**zip object is a kind of iterator**"
   ]
  },
  {
   "cell_type": "code",
   "execution_count": 31,
   "id": "d7284152",
   "metadata": {},
   "outputs": [
    {
     "name": "stdout",
     "output_type": "stream",
     "text": [
      "('i', 1)\n",
      "('j', 5)\n",
      "('k', 8)\n"
     ]
    }
   ],
   "source": [
    "for pair in zip(t,s):\n",
    "    print(pair)"
   ]
  },
  {
   "cell_type": "code",
   "execution_count": 32,
   "id": "cefb3181",
   "metadata": {},
   "outputs": [
    {
     "data": {
      "text/plain": [
       "[('i', 1), ('j', 5), ('k', 8)]"
      ]
     },
     "execution_count": 32,
     "metadata": {},
     "output_type": "execute_result"
    }
   ],
   "source": [
    "list(zip(t,s))"
   ]
  },
  {
   "cell_type": "code",
   "execution_count": 33,
   "id": "12bad451",
   "metadata": {},
   "outputs": [
    {
     "data": {
      "text/plain": [
       "{'i': 1, 'j': 5, 'k': 8}"
      ]
     },
     "execution_count": 33,
     "metadata": {},
     "output_type": "execute_result"
    }
   ],
   "source": [
    "dict(zip(t,s))"
   ]
  },
  {
   "cell_type": "markdown",
   "id": "caf87079",
   "metadata": {},
   "source": [
    "**if the sequence is not the same length then resul is length of shorter one**"
   ]
  },
  {
   "cell_type": "code",
   "execution_count": 34,
   "id": "e3de2c35",
   "metadata": {},
   "outputs": [
    {
     "data": {
      "text/plain": [
       "[('i', 's'), ('a', 'a'), ('m', 'l')]"
      ]
     },
     "execution_count": 34,
     "metadata": {},
     "output_type": "execute_result"
    }
   ],
   "source": [
    "list(zip(\"iam\",\"salman\"))"
   ]
  },
  {
   "cell_type": "code",
   "execution_count": 35,
   "id": "399b62bc",
   "metadata": {},
   "outputs": [
    {
     "data": {
      "text/plain": [
       "[('i', 1), ('j', 5), ('k', 8)]"
      ]
     },
     "execution_count": 35,
     "metadata": {},
     "output_type": "execute_result"
    }
   ],
   "source": [
    " s1 = list(zip(t,s))\n",
    "s1"
   ]
  },
  {
   "cell_type": "code",
   "execution_count": 36,
   "id": "1212075f",
   "metadata": {},
   "outputs": [
    {
     "name": "stdout",
     "output_type": "stream",
     "text": [
      "i 1\n",
      "j 5\n",
      "k 8\n"
     ]
    }
   ],
   "source": [
    "for letter, number in s1:\n",
    "    print(letter,number)"
   ]
  },
  {
   "cell_type": "markdown",
   "id": "2fc91692",
   "metadata": {},
   "source": [
    "**if you want elements of sequence and their indices, you can use the buit-in-function enumerate:**"
   ]
  },
  {
   "cell_type": "code",
   "execution_count": 37,
   "id": "68e72996",
   "metadata": {},
   "outputs": [
    {
     "name": "stdout",
     "output_type": "stream",
     "text": [
      "0 a\n",
      "1 l\n",
      "2 o\n",
      "3 n\n",
      "4 e\n",
      "5 b\n",
      "6 u\n",
      "7 t\n",
      "8 h\n",
      "9 a\n",
      "10 p\n",
      "11 p\n",
      "12 y\n"
     ]
    }
   ],
   "source": [
    "for index,element in enumerate('alonebuthappy'):\n",
    "    print(index,element)"
   ]
  },
  {
   "cell_type": "markdown",
   "id": "79b7104d",
   "metadata": {},
   "source": [
    "# Dictionaries & tuples"
   ]
  },
  {
   "cell_type": "markdown",
   "id": "d97b7026",
   "metadata": {},
   "source": [
    "**Dictionaries have a method called items that returns a sequence of tuples where each tuple is a key-value pair.**"
   ]
  },
  {
   "cell_type": "code",
   "execution_count": 38,
   "id": "3b95fd37",
   "metadata": {},
   "outputs": [
    {
     "data": {
      "text/plain": [
       "dict_items([('c', 'cat'), ('d', 'dog'), ('g', 'goal')])"
      ]
     },
     "execution_count": 38,
     "metadata": {},
     "output_type": "execute_result"
    }
   ],
   "source": [
    "dc = {'c': \"cat\",\"d\":\"dog\",\"g\":\"goal\"}\n",
    "dc.items()"
   ]
  },
  {
   "cell_type": "markdown",
   "id": "b2127877",
   "metadata": {},
   "source": [
    "**Using for loop we can iterate key-value pair**"
   ]
  },
  {
   "cell_type": "code",
   "execution_count": 39,
   "id": "65f3b29c",
   "metadata": {},
   "outputs": [
    {
     "name": "stdout",
     "output_type": "stream",
     "text": [
      "c cat\n",
      "d dog\n",
      "g goal\n"
     ]
    }
   ],
   "source": [
    "for key,value in dc.items():\n",
    "    print(key,value)"
   ]
  },
  {
   "cell_type": "markdown",
   "id": "7910a6bd",
   "metadata": {},
   "source": [
    "**we can create dictionary by combining dict & zip.**"
   ]
  },
  {
   "cell_type": "code",
   "execution_count": 40,
   "id": "8b85afe2",
   "metadata": {},
   "outputs": [
    {
     "data": {
      "text/plain": [
       "{'c': 0, 'd': 1, 'g': 2}"
      ]
     },
     "execution_count": 40,
     "metadata": {},
     "output_type": "execute_result"
    }
   ],
   "source": [
    "d = dict(zip(\"cdg\",range(3)))\n",
    "d"
   ]
  },
  {
   "cell_type": "code",
   "execution_count": null,
   "id": "dea3849a",
   "metadata": {},
   "outputs": [],
   "source": []
  },
  {
   "cell_type": "code",
   "execution_count": null,
   "id": "a9fdb23b",
   "metadata": {},
   "outputs": [],
   "source": []
  }
 ],
 "metadata": {
  "kernelspec": {
   "display_name": "Python 3 (ipykernel)",
   "language": "python",
   "name": "python3"
  },
  "language_info": {
   "codemirror_mode": {
    "name": "ipython",
    "version": 3
   },
   "file_extension": ".py",
   "mimetype": "text/x-python",
   "name": "python",
   "nbconvert_exporter": "python",
   "pygments_lexer": "ipython3",
   "version": "3.9.7"
  }
 },
 "nbformat": 4,
 "nbformat_minor": 5
}
